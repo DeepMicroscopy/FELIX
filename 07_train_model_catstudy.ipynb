{
 "cells": [
  {
   "cell_type": "code",
   "execution_count": 1,
   "metadata": {},
   "outputs": [],
   "source": [
    "%load_ext autoreload\n",
    "%autoreload 2"
   ]
  },
  {
   "cell_type": "code",
   "execution_count": 2,
   "metadata": {},
   "outputs": [
    {
     "name": "stderr",
     "output_type": "stream",
     "text": [
      "/old_home/ammeling/projects/ImageNet/.env/lib/python3.8/site-packages/tqdm/auto.py:21: TqdmWarning: IProgress not found. Please update jupyter and ipywidgets. See https://ipywidgets.readthedocs.io/en/stable/user_install.html\n",
      "  from .autonotebook import tqdm as notebook_tqdm\n"
     ]
    }
   ],
   "source": [
    "import os \n",
    "import numpy as np\n",
    "import matplotlib.pyplot as plt\n",
    "import torch\n",
    "import pickle\n",
    "import pytorch_lightning as pl\n",
    "\n",
    "from pathlib import Path\n",
    "from pytorch_lightning.callbacks import TQDMProgressBar, ModelCheckpoint, EarlyStopping\n",
    "from tqdm.notebook import tqdm\n",
    "\n",
    "from lib.datamodule import ImageNetModule\n",
    "from lib.model import ImageNetModel"
   ]
  },
  {
   "cell_type": "code",
   "execution_count": 3,
   "metadata": {},
   "outputs": [],
   "source": [
    "# set dirs\n",
    "data_dir = '/old_home/ammeling/projects/ImageNet/Cats'\n",
    "\n",
    "# load helper\n",
    "wnid_to_class = pickle.load(open('wnid_to_class.pkl', 'rb'))\n",
    "class_to_label = pickle.load(open('class_to_label.pkl', 'rb'))"
   ]
  },
  {
   "cell_type": "code",
   "execution_count": 4,
   "metadata": {},
   "outputs": [],
   "source": [
    "# load data module\n",
    "dm = ImageNetModule(\n",
    "    img_dir=data_dir, \n",
    "    wnid_to_class=wnid_to_class, \n",
    "    class_to_label=class_to_label,\n",
    "    pilot_data=True\n",
    "    )"
   ]
  },
  {
   "cell_type": "code",
   "execution_count": 5,
   "metadata": {},
   "outputs": [
    {
     "name": "stderr",
     "output_type": "stream",
     "text": [
      "/old_home/ammeling/projects/ImageNet/.env/lib/python3.8/site-packages/torchvision/models/_utils.py:208: UserWarning: The parameter 'pretrained' is deprecated since 0.13 and will be removed in 0.15, please use 'weights' instead.\n",
      "  warnings.warn(\n",
      "/old_home/ammeling/projects/ImageNet/.env/lib/python3.8/site-packages/torchvision/models/_utils.py:223: UserWarning: Arguments other than a weight enum or `None` for 'weights' are deprecated since 0.13 and will be removed in 0.15. The current behavior is equivalent to passing `weights=ResNet18_Weights.IMAGENET1K_V1`. You can also use `weights=ResNet18_Weights.DEFAULT` to get the most up-to-date weights.\n",
      "  warnings.warn(msg)\n"
     ]
    }
   ],
   "source": [
    "# load model \n",
    "model = ImageNetModel(logit_norm=True, temperature=2, optimizer='AdamW')"
   ]
  },
  {
   "cell_type": "code",
   "execution_count": 6,
   "metadata": {},
   "outputs": [],
   "source": [
    "# define callbacks \n",
    "progress_bar = TQDMProgressBar(refresh_rate=10)\n",
    "checkpoint_callback = ModelCheckpoint(\n",
    "    dirpath='checkpoints/',\n",
    "    monitor='val/acc',\n",
    "    mode='max',\n",
    "    save_top_k=1,\n",
    "    filename='ImageNetModel_Pilot_epoch{epoch:02d}_val_acc{val/acc:.2f}',\n",
    "    auto_insert_metric_name=False\n",
    ")\n",
    "\n",
    "earlystopping = EarlyStopping(monitor='val/acc', stopping_threshold=0.8, verbose=True, patience=20, mode='max')"
   ]
  },
  {
   "cell_type": "code",
   "execution_count": 7,
   "metadata": {},
   "outputs": [
    {
     "name": "stderr",
     "output_type": "stream",
     "text": [
      "GPU available: True (cuda), used: True\n",
      "TPU available: False, using: 0 TPU cores\n",
      "IPU available: False, using: 0 IPUs\n",
      "HPU available: False, using: 0 HPUs\n"
     ]
    }
   ],
   "source": [
    "# set vars\n",
    "max_epochs = 50\n",
    "\n",
    "# load trainer\n",
    "trainer = pl.Trainer(\n",
    "    fast_dev_run=False,\n",
    "    max_epochs=max_epochs,\n",
    "    devices=1,\n",
    "    accelerator='gpu',\n",
    "    logger=False,\n",
    "    callbacks=[progress_bar, checkpoint_callback, earlystopping])"
   ]
  },
  {
   "cell_type": "code",
   "execution_count": 8,
   "metadata": {},
   "outputs": [
    {
     "name": "stderr",
     "output_type": "stream",
     "text": [
      "You are using a CUDA device ('NVIDIA RTX A6000') that has Tensor Cores. To properly utilize them, you should set `torch.set_float32_matmul_precision('medium' | 'high')` which will trade-off precision for performance. For more details, read https://pytorch.org/docs/stable/generated/torch.set_float32_matmul_precision.html#torch.set_float32_matmul_precision\n",
      "/old_home/ammeling/projects/ImageNet/.env/lib/python3.8/site-packages/albumentations/augmentations/dropout/cutout.py:49: FutureWarning: Cutout has been deprecated. Please use CoarseDropout\n",
      "  warnings.warn(\n",
      "/old_home/ammeling/projects/ImageNet/.env/lib/python3.8/site-packages/pytorch_lightning/callbacks/model_checkpoint.py:613: UserWarning: Checkpoint directory /old_home/ammeling/projects/ImageNet/checkpoints exists and is not empty.\n",
      "  rank_zero_warn(f\"Checkpoint directory {dirpath} exists and is not empty.\")\n",
      "LOCAL_RANK: 0 - CUDA_VISIBLE_DEVICES: [0,1,2,3,4]\n",
      "\n",
      "  | Name              | Type               | Params\n",
      "---------------------------------------------------------\n",
      "0 | feature_extractor | Sequential         | 11.2 M\n",
      "1 | fc                | Linear             | 1.5 K \n",
      "2 | loss_func         | LogitNormLoss      | 0     \n",
      "3 | acc               | MulticlassAccuracy | 0     \n",
      "---------------------------------------------------------\n",
      "11.2 M    Trainable params\n",
      "0         Non-trainable params\n",
      "11.2 M    Total params\n",
      "44.712    Total estimated model params size (MB)\n"
     ]
    },
    {
     "name": "stdout",
     "output_type": "stream",
     "text": [
      "Epoch 0: 100%|██████████| 294/294 [00:39<00:00,  7.48it/s, loss=0.614, train/acc_step=0.625, val/acc=0.267, train/acc_epoch=0.640]"
     ]
    },
    {
     "name": "stderr",
     "output_type": "stream",
     "text": [
      "Metric val/acc improved. New best score: 0.267\n"
     ]
    },
    {
     "name": "stdout",
     "output_type": "stream",
     "text": [
      "Epoch 1: 100%|██████████| 294/294 [00:39<00:00,  7.46it/s, loss=0.613, train/acc_step=0.688, val/acc=0.567, train/acc_epoch=0.684]"
     ]
    },
    {
     "name": "stderr",
     "output_type": "stream",
     "text": [
      "Metric val/acc improved by 0.300 >= min_delta = 0.0. New best score: 0.567\n"
     ]
    },
    {
     "name": "stdout",
     "output_type": "stream",
     "text": [
      "Epoch 5: 100%|██████████| 294/294 [00:39<00:00,  7.47it/s, loss=0.603, train/acc_step=0.625, val/acc=0.633, train/acc_epoch=0.739]"
     ]
    },
    {
     "name": "stderr",
     "output_type": "stream",
     "text": [
      "Metric val/acc improved by 0.067 >= min_delta = 0.0. New best score: 0.633\n"
     ]
    },
    {
     "name": "stdout",
     "output_type": "stream",
     "text": [
      "Epoch 9: 100%|██████████| 294/294 [00:39<00:00,  7.48it/s, loss=0.599, train/acc_step=0.562, val/acc=0.667, train/acc_epoch=0.767]"
     ]
    },
    {
     "name": "stderr",
     "output_type": "stream",
     "text": [
      "Metric val/acc improved by 0.033 >= min_delta = 0.0. New best score: 0.667\n"
     ]
    },
    {
     "name": "stdout",
     "output_type": "stream",
     "text": [
      "Epoch 12: 100%|██████████| 294/294 [00:39<00:00,  7.37it/s, loss=0.597, train/acc_step=0.688, val/acc=0.700, train/acc_epoch=0.785]"
     ]
    },
    {
     "name": "stderr",
     "output_type": "stream",
     "text": [
      "Metric val/acc improved by 0.033 >= min_delta = 0.0. New best score: 0.700\n"
     ]
    },
    {
     "name": "stdout",
     "output_type": "stream",
     "text": [
      "Epoch 14: 100%|██████████| 294/294 [00:38<00:00,  7.57it/s, loss=0.591, train/acc_step=0.938, val/acc=0.733, train/acc_epoch=0.796]"
     ]
    },
    {
     "name": "stderr",
     "output_type": "stream",
     "text": [
      "Metric val/acc improved by 0.033 >= min_delta = 0.0. New best score: 0.733\n"
     ]
    },
    {
     "name": "stdout",
     "output_type": "stream",
     "text": [
      "Epoch 34: 100%|██████████| 294/294 [00:38<00:00,  7.68it/s, loss=0.583, train/acc_step=0.875, val/acc=0.667, train/acc_epoch=0.840]"
     ]
    },
    {
     "name": "stderr",
     "output_type": "stream",
     "text": [
      "Monitored metric val/acc did not improve in the last 20 records. Best score: 0.733. Signaling Trainer to stop.\n"
     ]
    },
    {
     "name": "stdout",
     "output_type": "stream",
     "text": [
      "Epoch 34: 100%|██████████| 294/294 [00:38<00:00,  7.67it/s, loss=0.583, train/acc_step=0.875, val/acc=0.667, train/acc_epoch=0.840]\n"
     ]
    }
   ],
   "source": [
    "# fit model\n",
    "trainer.fit(model, datamodule=dm)"
   ]
  }
 ],
 "metadata": {
  "kernelspec": {
   "display_name": ".env",
   "language": "python",
   "name": "python3"
  },
  "language_info": {
   "codemirror_mode": {
    "name": "ipython",
    "version": 3
   },
   "file_extension": ".py",
   "mimetype": "text/x-python",
   "name": "python",
   "nbconvert_exporter": "python",
   "pygments_lexer": "ipython3",
   "version": "3.8.10"
  },
  "orig_nbformat": 4
 },
 "nbformat": 4,
 "nbformat_minor": 2
}
