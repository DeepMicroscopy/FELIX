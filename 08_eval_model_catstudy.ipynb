{
 "cells": [
  {
   "cell_type": "code",
   "execution_count": 55,
   "metadata": {},
   "outputs": [
    {
     "name": "stdout",
     "output_type": "stream",
     "text": [
      "The autoreload extension is already loaded. To reload it, use:\n",
      "  %reload_ext autoreload\n"
     ]
    }
   ],
   "source": [
    "%load_ext autoreload\n",
    "%autoreload 2"
   ]
  },
  {
   "cell_type": "code",
   "execution_count": 72,
   "metadata": {},
   "outputs": [],
   "source": [
    "import os \n",
    "import numpy as np\n",
    "import pandas as pd\n",
    "import matplotlib.pyplot as plt\n",
    "import torch\n",
    "import cv2\n",
    "import pickle\n",
    "import pytorch_lightning as pl\n",
    "import torchvision.transforms as T\n",
    "\n",
    "from PIL import Image\n",
    "from pathlib import Path\n",
    "from pytorch_lightning.callbacks import TQDMProgressBar\n",
    "from tqdm.notebook import tqdm\n",
    "from typing import List, Union, Callable\n",
    "\n",
    "from lib.datamodule import ImageNetModule, CatStudyModule\n",
    "from lib.model import ImageNetModel"
   ]
  },
  {
   "cell_type": "markdown",
   "metadata": {},
   "source": [
    "# Evaluate a cat classifier\n",
    "\n",
    "This notebook can be used to evaluate a classifier created with ```07_train_model_catstudy.ipynb```."
   ]
  },
  {
   "cell_type": "code",
   "execution_count": 73,
   "metadata": {},
   "outputs": [
    {
     "name": "stderr",
     "output_type": "stream",
     "text": [
      "/old_home/ammeling/projects/ImageNet/.env/lib/python3.8/site-packages/torchvision/models/_utils.py:208: UserWarning: The parameter 'pretrained' is deprecated since 0.13 and will be removed in 0.15, please use 'weights' instead.\n",
      "  warnings.warn(\n",
      "/old_home/ammeling/projects/ImageNet/.env/lib/python3.8/site-packages/torchvision/models/_utils.py:223: UserWarning: Arguments other than a weight enum or `None` for 'weights' are deprecated since 0.13 and will be removed in 0.15. The current behavior is equivalent to passing `weights=ResNet18_Weights.IMAGENET1K_V1`. You can also use `weights=ResNet18_Weights.DEFAULT` to get the most up-to-date weights.\n",
      "  warnings.warn(msg)\n"
     ]
    }
   ],
   "source": [
    "# set checkpoint that you would like to evaluate\n",
    "checkpoint = 'checkpoints/ImageNetModel_Pilot_epoch14_val_acc0.73.ckpt'\n",
    "\n",
    "# load model \n",
    "model = ImageNetModel().load_from_checkpoint(checkpoint)"
   ]
  },
  {
   "cell_type": "code",
   "execution_count": 75,
   "metadata": {},
   "outputs": [],
   "source": [
    "# set dirs\n",
    "img_dir = Path('image_files')\n",
    "excluded_dir = img_dir / 'Excluded'\n",
    "experimental_dir = img_dir / 'Experimental_study_set'\n",
    "recommender_dir = img_dir / 'Recommender_test_set'"
   ]
  },
  {
   "cell_type": "code",
   "execution_count": 76,
   "metadata": {},
   "outputs": [
    {
     "name": "stderr",
     "output_type": "stream",
     "text": [
      "GPU available: True (cuda), used: True\n",
      "TPU available: False, using: 0 TPU cores\n",
      "IPU available: False, using: 0 IPUs\n",
      "HPU available: False, using: 0 HPUs\n"
     ]
    }
   ],
   "source": [
    "# load data module\n",
    "dm = CatStudyModule(\n",
    "    img_dir=img_dir\n",
    ")\n",
    "\n",
    "\n",
    "# load trainer\n",
    "trainer =  pl.Trainer(\n",
    "    fast_dev_run=False,\n",
    "    devices=1,\n",
    "    accelerator='gpu',\n",
    "    logger=False)"
   ]
  },
  {
   "cell_type": "code",
   "execution_count": 77,
   "metadata": {},
   "outputs": [],
   "source": [
    "IDX_TO_LABEL = {\n",
    "    0: 'Domestic cat',\n",
    "    1: 'Wild cat',\n",
    "    2: 'Big cat'\n",
    "}"
   ]
  },
  {
   "cell_type": "code",
   "execution_count": 84,
   "metadata": {},
   "outputs": [
    {
     "name": "stderr",
     "output_type": "stream",
     "text": [
      "You are using a CUDA device ('NVIDIA A100-PCIE-40GB MIG 2g.10gb') that has Tensor Cores. To properly utilize them, you should set `torch.set_float32_matmul_precision('medium' | 'high')` which will trade-off precision for performance. For more details, read https://pytorch.org/docs/stable/generated/torch.set_float32_matmul_precision.html#torch.set_float32_matmul_precision\n",
      "LOCAL_RANK: 0 - CUDA_VISIBLE_DEVICES: [0,1,2,3,4]\n"
     ]
    },
    {
     "data": {
      "application/vnd.jupyter.widget-view+json": {
       "model_id": "8605bb1a4f084e3c85f3f54164cb12a5",
       "version_major": 2,
       "version_minor": 0
      },
      "text/plain": [
       "Testing: 0it [00:00, ?it/s]"
      ]
     },
     "metadata": {},
     "output_type": "display_data"
    },
    {
     "name": "stdout",
     "output_type": "stream",
     "text": [
      "────────────────────────────────────────────────────────────────────────────────────────────────────────────────────────\n",
      "       Test metric             DataLoader 0\n",
      "────────────────────────────────────────────────────────────────────────────────────────────────────────────────────────\n",
      "        test/acc            0.4333333373069763\n",
      "        test/loss           1.8983571529388428\n",
      "────────────────────────────────────────────────────────────────────────────────────────────────────────────────────────\n"
     ]
    },
    {
     "data": {
      "text/plain": [
       "[{'test/loss': 1.8983571529388428, 'test/acc': 0.4333333373069763}]"
      ]
     },
     "execution_count": 84,
     "metadata": {},
     "output_type": "execute_result"
    }
   ],
   "source": [
    "# set up excluded\n",
    "dm.set_split('Excluded')\n",
    "\n",
    "trainer.test(model, dataloaders=dm.predict_dataloader())"
   ]
  },
  {
   "cell_type": "code",
   "execution_count": 85,
   "metadata": {},
   "outputs": [
    {
     "name": "stderr",
     "output_type": "stream",
     "text": [
      "You are using a CUDA device ('NVIDIA A100-PCIE-40GB MIG 2g.10gb') that has Tensor Cores. To properly utilize them, you should set `torch.set_float32_matmul_precision('medium' | 'high')` which will trade-off precision for performance. For more details, read https://pytorch.org/docs/stable/generated/torch.set_float32_matmul_precision.html#torch.set_float32_matmul_precision\n"
     ]
    },
    {
     "name": "stderr",
     "output_type": "stream",
     "text": [
      "LOCAL_RANK: 0 - CUDA_VISIBLE_DEVICES: [0,1,2,3,4]\n"
     ]
    },
    {
     "data": {
      "application/vnd.jupyter.widget-view+json": {
       "model_id": "3481d429b15248f281907d33f64c033e",
       "version_major": 2,
       "version_minor": 0
      },
      "text/plain": [
       "Predicting: 0it [00:00, ?it/s]"
      ]
     },
     "metadata": {},
     "output_type": "display_data"
    },
    {
     "data": {
      "text/html": [
       "<div>\n",
       "<style scoped>\n",
       "    .dataframe tbody tr th:only-of-type {\n",
       "        vertical-align: middle;\n",
       "    }\n",
       "\n",
       "    .dataframe tbody tr th {\n",
       "        vertical-align: top;\n",
       "    }\n",
       "\n",
       "    .dataframe thead th {\n",
       "        text-align: right;\n",
       "    }\n",
       "</style>\n",
       "<table border=\"1\" class=\"dataframe\">\n",
       "  <thead>\n",
       "    <tr style=\"text-align: right;\">\n",
       "      <th></th>\n",
       "      <th>Filename</th>\n",
       "      <th>True</th>\n",
       "      <th>Pred</th>\n",
       "      <th>Score</th>\n",
       "    </tr>\n",
       "  </thead>\n",
       "  <tbody>\n",
       "    <tr>\n",
       "      <th>0</th>\n",
       "      <td>102.jpg</td>\n",
       "      <td>Domestic cat</td>\n",
       "      <td>Wild cat</td>\n",
       "      <td>0.8826</td>\n",
       "    </tr>\n",
       "    <tr>\n",
       "      <th>1</th>\n",
       "      <td>108.jpg</td>\n",
       "      <td>Domestic cat</td>\n",
       "      <td>Wild cat</td>\n",
       "      <td>0.8279</td>\n",
       "    </tr>\n",
       "    <tr>\n",
       "      <th>2</th>\n",
       "      <td>112.jpg</td>\n",
       "      <td>Domestic cat</td>\n",
       "      <td>Domestic cat</td>\n",
       "      <td>1.0000</td>\n",
       "    </tr>\n",
       "    <tr>\n",
       "      <th>3</th>\n",
       "      <td>117.jpg</td>\n",
       "      <td>Domestic cat</td>\n",
       "      <td>Domestic cat</td>\n",
       "      <td>1.0000</td>\n",
       "    </tr>\n",
       "    <tr>\n",
       "      <th>4</th>\n",
       "      <td>119.jpg</td>\n",
       "      <td>Domestic cat</td>\n",
       "      <td>Big cat</td>\n",
       "      <td>0.9605</td>\n",
       "    </tr>\n",
       "    <tr>\n",
       "      <th>5</th>\n",
       "      <td>202.jpg</td>\n",
       "      <td>Wild cat</td>\n",
       "      <td>Wild cat</td>\n",
       "      <td>1.0000</td>\n",
       "    </tr>\n",
       "    <tr>\n",
       "      <th>6</th>\n",
       "      <td>204.jpg</td>\n",
       "      <td>Wild cat</td>\n",
       "      <td>Wild cat</td>\n",
       "      <td>0.9201</td>\n",
       "    </tr>\n",
       "    <tr>\n",
       "      <th>7</th>\n",
       "      <td>213.jpg</td>\n",
       "      <td>Wild cat</td>\n",
       "      <td>Wild cat</td>\n",
       "      <td>1.0000</td>\n",
       "    </tr>\n",
       "    <tr>\n",
       "      <th>8</th>\n",
       "      <td>215.jpg</td>\n",
       "      <td>Wild cat</td>\n",
       "      <td>Big cat</td>\n",
       "      <td>1.0000</td>\n",
       "    </tr>\n",
       "    <tr>\n",
       "      <th>9</th>\n",
       "      <td>217.jpg</td>\n",
       "      <td>Wild cat</td>\n",
       "      <td>Big cat</td>\n",
       "      <td>0.9998</td>\n",
       "    </tr>\n",
       "    <tr>\n",
       "      <th>10</th>\n",
       "      <td>308.jpg</td>\n",
       "      <td>Big cat</td>\n",
       "      <td>Wild cat</td>\n",
       "      <td>1.0000</td>\n",
       "    </tr>\n",
       "    <tr>\n",
       "      <th>11</th>\n",
       "      <td>310.jpg</td>\n",
       "      <td>Big cat</td>\n",
       "      <td>Wild cat</td>\n",
       "      <td>1.0000</td>\n",
       "    </tr>\n",
       "    <tr>\n",
       "      <th>12</th>\n",
       "      <td>313.jpg</td>\n",
       "      <td>Big cat</td>\n",
       "      <td>Wild cat</td>\n",
       "      <td>1.0000</td>\n",
       "    </tr>\n",
       "    <tr>\n",
       "      <th>13</th>\n",
       "      <td>314.jpg</td>\n",
       "      <td>Big cat</td>\n",
       "      <td>Big cat</td>\n",
       "      <td>1.0000</td>\n",
       "    </tr>\n",
       "    <tr>\n",
       "      <th>14</th>\n",
       "      <td>315.jpg</td>\n",
       "      <td>Big cat</td>\n",
       "      <td>Wild cat</td>\n",
       "      <td>0.9999</td>\n",
       "    </tr>\n",
       "    <tr>\n",
       "      <th>15</th>\n",
       "      <td>402.png</td>\n",
       "      <td>Domestic cat</td>\n",
       "      <td>Big cat</td>\n",
       "      <td>0.9568</td>\n",
       "    </tr>\n",
       "    <tr>\n",
       "      <th>16</th>\n",
       "      <td>404.jpg</td>\n",
       "      <td>Domestic cat</td>\n",
       "      <td>Domestic cat</td>\n",
       "      <td>1.0000</td>\n",
       "    </tr>\n",
       "    <tr>\n",
       "      <th>17</th>\n",
       "      <td>405.jpg</td>\n",
       "      <td>Domestic cat</td>\n",
       "      <td>Big cat</td>\n",
       "      <td>0.4638</td>\n",
       "    </tr>\n",
       "    <tr>\n",
       "      <th>18</th>\n",
       "      <td>406.jpg</td>\n",
       "      <td>Domestic cat</td>\n",
       "      <td>Big cat</td>\n",
       "      <td>0.4344</td>\n",
       "    </tr>\n",
       "    <tr>\n",
       "      <th>19</th>\n",
       "      <td>408.jpg</td>\n",
       "      <td>Domestic cat</td>\n",
       "      <td>Big cat</td>\n",
       "      <td>0.6144</td>\n",
       "    </tr>\n",
       "    <tr>\n",
       "      <th>20</th>\n",
       "      <td>502.jpg</td>\n",
       "      <td>Wild cat</td>\n",
       "      <td>Big cat</td>\n",
       "      <td>0.9897</td>\n",
       "    </tr>\n",
       "    <tr>\n",
       "      <th>21</th>\n",
       "      <td>505.jpg</td>\n",
       "      <td>Wild cat</td>\n",
       "      <td>Wild cat</td>\n",
       "      <td>1.0000</td>\n",
       "    </tr>\n",
       "    <tr>\n",
       "      <th>22</th>\n",
       "      <td>507.jpg</td>\n",
       "      <td>Wild cat</td>\n",
       "      <td>Wild cat</td>\n",
       "      <td>1.0000</td>\n",
       "    </tr>\n",
       "    <tr>\n",
       "      <th>23</th>\n",
       "      <td>508.jpg</td>\n",
       "      <td>Wild cat</td>\n",
       "      <td>Wild cat</td>\n",
       "      <td>0.5971</td>\n",
       "    </tr>\n",
       "    <tr>\n",
       "      <th>24</th>\n",
       "      <td>509.jpg</td>\n",
       "      <td>Wild cat</td>\n",
       "      <td>Big cat</td>\n",
       "      <td>0.9524</td>\n",
       "    </tr>\n",
       "    <tr>\n",
       "      <th>25</th>\n",
       "      <td>601.jpg</td>\n",
       "      <td>Big cat</td>\n",
       "      <td>Wild cat</td>\n",
       "      <td>1.0000</td>\n",
       "    </tr>\n",
       "    <tr>\n",
       "      <th>26</th>\n",
       "      <td>602.jpg</td>\n",
       "      <td>Big cat</td>\n",
       "      <td>Big cat</td>\n",
       "      <td>0.9955</td>\n",
       "    </tr>\n",
       "    <tr>\n",
       "      <th>27</th>\n",
       "      <td>603.jpg</td>\n",
       "      <td>Big cat</td>\n",
       "      <td>Big cat</td>\n",
       "      <td>0.9959</td>\n",
       "    </tr>\n",
       "    <tr>\n",
       "      <th>28</th>\n",
       "      <td>605.jpg</td>\n",
       "      <td>Big cat</td>\n",
       "      <td>Wild cat</td>\n",
       "      <td>0.5097</td>\n",
       "    </tr>\n",
       "    <tr>\n",
       "      <th>29</th>\n",
       "      <td>608.jpg</td>\n",
       "      <td>Big cat</td>\n",
       "      <td>Big cat</td>\n",
       "      <td>0.8888</td>\n",
       "    </tr>\n",
       "  </tbody>\n",
       "</table>\n",
       "</div>"
      ],
      "text/plain": [
       "   Filename          True          Pred   Score\n",
       "0   102.jpg  Domestic cat      Wild cat  0.8826\n",
       "1   108.jpg  Domestic cat      Wild cat  0.8279\n",
       "2   112.jpg  Domestic cat  Domestic cat  1.0000\n",
       "3   117.jpg  Domestic cat  Domestic cat  1.0000\n",
       "4   119.jpg  Domestic cat       Big cat  0.9605\n",
       "5   202.jpg      Wild cat      Wild cat  1.0000\n",
       "6   204.jpg      Wild cat      Wild cat  0.9201\n",
       "7   213.jpg      Wild cat      Wild cat  1.0000\n",
       "8   215.jpg      Wild cat       Big cat  1.0000\n",
       "9   217.jpg      Wild cat       Big cat  0.9998\n",
       "10  308.jpg       Big cat      Wild cat  1.0000\n",
       "11  310.jpg       Big cat      Wild cat  1.0000\n",
       "12  313.jpg       Big cat      Wild cat  1.0000\n",
       "13  314.jpg       Big cat       Big cat  1.0000\n",
       "14  315.jpg       Big cat      Wild cat  0.9999\n",
       "15  402.png  Domestic cat       Big cat  0.9568\n",
       "16  404.jpg  Domestic cat  Domestic cat  1.0000\n",
       "17  405.jpg  Domestic cat       Big cat  0.4638\n",
       "18  406.jpg  Domestic cat       Big cat  0.4344\n",
       "19  408.jpg  Domestic cat       Big cat  0.6144\n",
       "20  502.jpg      Wild cat       Big cat  0.9897\n",
       "21  505.jpg      Wild cat      Wild cat  1.0000\n",
       "22  507.jpg      Wild cat      Wild cat  1.0000\n",
       "23  508.jpg      Wild cat      Wild cat  0.5971\n",
       "24  509.jpg      Wild cat       Big cat  0.9524\n",
       "25  601.jpg       Big cat      Wild cat  1.0000\n",
       "26  602.jpg       Big cat       Big cat  0.9955\n",
       "27  603.jpg       Big cat       Big cat  0.9959\n",
       "28  605.jpg       Big cat      Wild cat  0.5097\n",
       "29  608.jpg       Big cat       Big cat  0.8888"
      ]
     },
     "execution_count": 85,
     "metadata": {},
     "output_type": "execute_result"
    }
   ],
   "source": [
    "dm.set_split('Excluded')\n",
    "\n",
    "# excluded dataset \n",
    "val_res = []\n",
    "\n",
    "# collect predictions\n",
    "preds = trainer.predict(model, dataloaders=dm.predict_dataloader())\n",
    "\n",
    "# combine predictions across batches\n",
    "y_hats = torch.cat([p[1] for p in preds])\n",
    "y_probs = torch.cat([p[0] for p in preds])\n",
    "\n",
    "\n",
    "val_dataset = dm.excluded_dataset\n",
    "for idx, (yhat, score) in enumerate(zip(y_hats, y_probs)):\n",
    "    path, ytrue = val_dataset.samples[idx]\n",
    "    img = val_dataset.load_image(path)\n",
    "    val_res.append([path[-7:], IDX_TO_LABEL[ytrue], IDX_TO_LABEL[yhat.item()], np.round(score.item(), decimals=4)])\n",
    "\n",
    "\n",
    "val_df = pd.DataFrame(val_res, columns=['Filename', 'True', 'Pred', 'Score'])\n",
    "val_df.to_csv('CatStudyFollowUp_Excluded_Dataset.csv', index=False)\n",
    "val_df"
   ]
  },
  {
   "cell_type": "code",
   "execution_count": 86,
   "metadata": {},
   "outputs": [
    {
     "name": "stderr",
     "output_type": "stream",
     "text": [
      "You are using a CUDA device ('NVIDIA A100-PCIE-40GB MIG 2g.10gb') that has Tensor Cores. To properly utilize them, you should set `torch.set_float32_matmul_precision('medium' | 'high')` which will trade-off precision for performance. For more details, read https://pytorch.org/docs/stable/generated/torch.set_float32_matmul_precision.html#torch.set_float32_matmul_precision\n"
     ]
    },
    {
     "name": "stderr",
     "output_type": "stream",
     "text": [
      "LOCAL_RANK: 0 - CUDA_VISIBLE_DEVICES: [0,1,2,3,4]\n"
     ]
    },
    {
     "data": {
      "application/vnd.jupyter.widget-view+json": {
       "model_id": "4a362112cb6347da9950bc62b7d4c8e5",
       "version_major": 2,
       "version_minor": 0
      },
      "text/plain": [
       "Testing: 0it [00:00, ?it/s]"
      ]
     },
     "metadata": {},
     "output_type": "display_data"
    },
    {
     "name": "stdout",
     "output_type": "stream",
     "text": [
      "────────────────────────────────────────────────────────────────────────────────────────────────────────────────────────\n",
      "       Test metric             DataLoader 0\n",
      "────────────────────────────────────────────────────────────────────────────────────────────────────────────────────────\n",
      "        test/acc            0.7333333492279053\n",
      "        test/loss            1.058653473854065\n",
      "────────────────────────────────────────────────────────────────────────────────────────────────────────────────────────\n"
     ]
    },
    {
     "data": {
      "text/plain": [
       "[{'test/loss': 1.058653473854065, 'test/acc': 0.7333333492279053}]"
      ]
     },
     "execution_count": 86,
     "metadata": {},
     "output_type": "execute_result"
    }
   ],
   "source": [
    "# set up recommender test set evaluation\n",
    "dm.set_split('Recommender_test_set')\n",
    "\n",
    "trainer.test(model, dataloaders=dm.predict_dataloader())"
   ]
  },
  {
   "cell_type": "code",
   "execution_count": 87,
   "metadata": {},
   "outputs": [
    {
     "name": "stderr",
     "output_type": "stream",
     "text": [
      "You are using a CUDA device ('NVIDIA A100-PCIE-40GB MIG 2g.10gb') that has Tensor Cores. To properly utilize them, you should set `torch.set_float32_matmul_precision('medium' | 'high')` which will trade-off precision for performance. For more details, read https://pytorch.org/docs/stable/generated/torch.set_float32_matmul_precision.html#torch.set_float32_matmul_precision\n"
     ]
    },
    {
     "name": "stderr",
     "output_type": "stream",
     "text": [
      "LOCAL_RANK: 0 - CUDA_VISIBLE_DEVICES: [0,1,2,3,4]\n"
     ]
    },
    {
     "data": {
      "application/vnd.jupyter.widget-view+json": {
       "model_id": "60d64f377b5a4af7b12252dd48792054",
       "version_major": 2,
       "version_minor": 0
      },
      "text/plain": [
       "Predicting: 0it [00:00, ?it/s]"
      ]
     },
     "metadata": {},
     "output_type": "display_data"
    },
    {
     "data": {
      "text/html": [
       "<div>\n",
       "<style scoped>\n",
       "    .dataframe tbody tr th:only-of-type {\n",
       "        vertical-align: middle;\n",
       "    }\n",
       "\n",
       "    .dataframe tbody tr th {\n",
       "        vertical-align: top;\n",
       "    }\n",
       "\n",
       "    .dataframe thead th {\n",
       "        text-align: right;\n",
       "    }\n",
       "</style>\n",
       "<table border=\"1\" class=\"dataframe\">\n",
       "  <thead>\n",
       "    <tr style=\"text-align: right;\">\n",
       "      <th></th>\n",
       "      <th>Filename</th>\n",
       "      <th>True</th>\n",
       "      <th>Pred</th>\n",
       "      <th>Score</th>\n",
       "    </tr>\n",
       "  </thead>\n",
       "  <tbody>\n",
       "    <tr>\n",
       "      <th>0</th>\n",
       "      <td>101.jpg</td>\n",
       "      <td>Domestic cat</td>\n",
       "      <td>Domestic cat</td>\n",
       "      <td>1.0000</td>\n",
       "    </tr>\n",
       "    <tr>\n",
       "      <th>1</th>\n",
       "      <td>104.jpg</td>\n",
       "      <td>Domestic cat</td>\n",
       "      <td>Big cat</td>\n",
       "      <td>0.9996</td>\n",
       "    </tr>\n",
       "    <tr>\n",
       "      <th>2</th>\n",
       "      <td>106.jpg</td>\n",
       "      <td>Domestic cat</td>\n",
       "      <td>Domestic cat</td>\n",
       "      <td>1.0000</td>\n",
       "    </tr>\n",
       "    <tr>\n",
       "      <th>3</th>\n",
       "      <td>109.jpg</td>\n",
       "      <td>Domestic cat</td>\n",
       "      <td>Wild cat</td>\n",
       "      <td>1.0000</td>\n",
       "    </tr>\n",
       "    <tr>\n",
       "      <th>4</th>\n",
       "      <td>110.jpg</td>\n",
       "      <td>Domestic cat</td>\n",
       "      <td>Wild cat</td>\n",
       "      <td>0.9991</td>\n",
       "    </tr>\n",
       "    <tr>\n",
       "      <th>5</th>\n",
       "      <td>111.jpg</td>\n",
       "      <td>Domestic cat</td>\n",
       "      <td>Wild cat</td>\n",
       "      <td>1.0000</td>\n",
       "    </tr>\n",
       "    <tr>\n",
       "      <th>6</th>\n",
       "      <td>113.jpg</td>\n",
       "      <td>Domestic cat</td>\n",
       "      <td>Domestic cat</td>\n",
       "      <td>1.0000</td>\n",
       "    </tr>\n",
       "    <tr>\n",
       "      <th>7</th>\n",
       "      <td>118.jpg</td>\n",
       "      <td>Domestic cat</td>\n",
       "      <td>Wild cat</td>\n",
       "      <td>1.0000</td>\n",
       "    </tr>\n",
       "    <tr>\n",
       "      <th>8</th>\n",
       "      <td>120.jpg</td>\n",
       "      <td>Domestic cat</td>\n",
       "      <td>Domestic cat</td>\n",
       "      <td>1.0000</td>\n",
       "    </tr>\n",
       "    <tr>\n",
       "      <th>9</th>\n",
       "      <td>205.jpg</td>\n",
       "      <td>Wild cat</td>\n",
       "      <td>Wild cat</td>\n",
       "      <td>0.8195</td>\n",
       "    </tr>\n",
       "    <tr>\n",
       "      <th>10</th>\n",
       "      <td>206.jpg</td>\n",
       "      <td>Wild cat</td>\n",
       "      <td>Wild cat</td>\n",
       "      <td>1.0000</td>\n",
       "    </tr>\n",
       "    <tr>\n",
       "      <th>11</th>\n",
       "      <td>207.jpg</td>\n",
       "      <td>Wild cat</td>\n",
       "      <td>Wild cat</td>\n",
       "      <td>1.0000</td>\n",
       "    </tr>\n",
       "    <tr>\n",
       "      <th>12</th>\n",
       "      <td>210.jpg</td>\n",
       "      <td>Wild cat</td>\n",
       "      <td>Big cat</td>\n",
       "      <td>0.5125</td>\n",
       "    </tr>\n",
       "    <tr>\n",
       "      <th>13</th>\n",
       "      <td>211.jpg</td>\n",
       "      <td>Wild cat</td>\n",
       "      <td>Wild cat</td>\n",
       "      <td>1.0000</td>\n",
       "    </tr>\n",
       "    <tr>\n",
       "      <th>14</th>\n",
       "      <td>212.jpg</td>\n",
       "      <td>Wild cat</td>\n",
       "      <td>Wild cat</td>\n",
       "      <td>1.0000</td>\n",
       "    </tr>\n",
       "    <tr>\n",
       "      <th>15</th>\n",
       "      <td>301.jpg</td>\n",
       "      <td>Big cat</td>\n",
       "      <td>Big cat</td>\n",
       "      <td>1.0000</td>\n",
       "    </tr>\n",
       "    <tr>\n",
       "      <th>16</th>\n",
       "      <td>303.png</td>\n",
       "      <td>Big cat</td>\n",
       "      <td>Big cat</td>\n",
       "      <td>0.9995</td>\n",
       "    </tr>\n",
       "    <tr>\n",
       "      <th>17</th>\n",
       "      <td>304.jpg</td>\n",
       "      <td>Big cat</td>\n",
       "      <td>Big cat</td>\n",
       "      <td>1.0000</td>\n",
       "    </tr>\n",
       "    <tr>\n",
       "      <th>18</th>\n",
       "      <td>306.jpg</td>\n",
       "      <td>Big cat</td>\n",
       "      <td>Big cat</td>\n",
       "      <td>0.9998</td>\n",
       "    </tr>\n",
       "    <tr>\n",
       "      <th>19</th>\n",
       "      <td>311.jpg</td>\n",
       "      <td>Big cat</td>\n",
       "      <td>Big cat</td>\n",
       "      <td>1.0000</td>\n",
       "    </tr>\n",
       "    <tr>\n",
       "      <th>20</th>\n",
       "      <td>312.jpg</td>\n",
       "      <td>Big cat</td>\n",
       "      <td>Big cat</td>\n",
       "      <td>0.9863</td>\n",
       "    </tr>\n",
       "    <tr>\n",
       "      <th>21</th>\n",
       "      <td>316.jpg</td>\n",
       "      <td>Big cat</td>\n",
       "      <td>Big cat</td>\n",
       "      <td>0.8245</td>\n",
       "    </tr>\n",
       "    <tr>\n",
       "      <th>22</th>\n",
       "      <td>318.jpg</td>\n",
       "      <td>Big cat</td>\n",
       "      <td>Big cat</td>\n",
       "      <td>1.0000</td>\n",
       "    </tr>\n",
       "    <tr>\n",
       "      <th>23</th>\n",
       "      <td>321.jpg</td>\n",
       "      <td>Big cat</td>\n",
       "      <td>Big cat</td>\n",
       "      <td>1.0000</td>\n",
       "    </tr>\n",
       "    <tr>\n",
       "      <th>24</th>\n",
       "      <td>407.jpg</td>\n",
       "      <td>Domestic cat</td>\n",
       "      <td>Domestic cat</td>\n",
       "      <td>1.0000</td>\n",
       "    </tr>\n",
       "    <tr>\n",
       "      <th>25</th>\n",
       "      <td>409.jpg</td>\n",
       "      <td>Domestic cat</td>\n",
       "      <td>Big cat</td>\n",
       "      <td>0.6855</td>\n",
       "    </tr>\n",
       "    <tr>\n",
       "      <th>26</th>\n",
       "      <td>501.jpg</td>\n",
       "      <td>Wild cat</td>\n",
       "      <td>Wild cat</td>\n",
       "      <td>1.0000</td>\n",
       "    </tr>\n",
       "    <tr>\n",
       "      <th>27</th>\n",
       "      <td>503.jpg</td>\n",
       "      <td>Wild cat</td>\n",
       "      <td>Big cat</td>\n",
       "      <td>0.9897</td>\n",
       "    </tr>\n",
       "    <tr>\n",
       "      <th>28</th>\n",
       "      <td>607.jpg</td>\n",
       "      <td>Big cat</td>\n",
       "      <td>Big cat</td>\n",
       "      <td>1.0000</td>\n",
       "    </tr>\n",
       "    <tr>\n",
       "      <th>29</th>\n",
       "      <td>609.jpg</td>\n",
       "      <td>Big cat</td>\n",
       "      <td>Big cat</td>\n",
       "      <td>0.8661</td>\n",
       "    </tr>\n",
       "  </tbody>\n",
       "</table>\n",
       "</div>"
      ],
      "text/plain": [
       "   Filename          True          Pred   Score\n",
       "0   101.jpg  Domestic cat  Domestic cat  1.0000\n",
       "1   104.jpg  Domestic cat       Big cat  0.9996\n",
       "2   106.jpg  Domestic cat  Domestic cat  1.0000\n",
       "3   109.jpg  Domestic cat      Wild cat  1.0000\n",
       "4   110.jpg  Domestic cat      Wild cat  0.9991\n",
       "5   111.jpg  Domestic cat      Wild cat  1.0000\n",
       "6   113.jpg  Domestic cat  Domestic cat  1.0000\n",
       "7   118.jpg  Domestic cat      Wild cat  1.0000\n",
       "8   120.jpg  Domestic cat  Domestic cat  1.0000\n",
       "9   205.jpg      Wild cat      Wild cat  0.8195\n",
       "10  206.jpg      Wild cat      Wild cat  1.0000\n",
       "11  207.jpg      Wild cat      Wild cat  1.0000\n",
       "12  210.jpg      Wild cat       Big cat  0.5125\n",
       "13  211.jpg      Wild cat      Wild cat  1.0000\n",
       "14  212.jpg      Wild cat      Wild cat  1.0000\n",
       "15  301.jpg       Big cat       Big cat  1.0000\n",
       "16  303.png       Big cat       Big cat  0.9995\n",
       "17  304.jpg       Big cat       Big cat  1.0000\n",
       "18  306.jpg       Big cat       Big cat  0.9998\n",
       "19  311.jpg       Big cat       Big cat  1.0000\n",
       "20  312.jpg       Big cat       Big cat  0.9863\n",
       "21  316.jpg       Big cat       Big cat  0.8245\n",
       "22  318.jpg       Big cat       Big cat  1.0000\n",
       "23  321.jpg       Big cat       Big cat  1.0000\n",
       "24  407.jpg  Domestic cat  Domestic cat  1.0000\n",
       "25  409.jpg  Domestic cat       Big cat  0.6855\n",
       "26  501.jpg      Wild cat      Wild cat  1.0000\n",
       "27  503.jpg      Wild cat       Big cat  0.9897\n",
       "28  607.jpg       Big cat       Big cat  1.0000\n",
       "29  609.jpg       Big cat       Big cat  0.8661"
      ]
     },
     "execution_count": 87,
     "metadata": {},
     "output_type": "execute_result"
    }
   ],
   "source": [
    "# set up recommender test set evaluation\n",
    "dm.set_split('Recommender_test_set')\n",
    "\n",
    "# validation dataset \n",
    "val_res = []\n",
    "\n",
    "# collect predictions\n",
    "preds = trainer.predict(model, dataloaders=dm.predict_dataloader())\n",
    "\n",
    "# combine predictions across batches\n",
    "y_hats = torch.cat([p[1] for p in preds])\n",
    "y_probs = torch.cat([p[0] for p in preds])\n",
    "\n",
    "val_dataset = dm.validation_dataset\n",
    "for idx, (yhat, score) in enumerate(zip(y_hats, y_probs)):\n",
    "    path, ytrue = val_dataset.samples[idx]\n",
    "    img = val_dataset.load_image(path)\n",
    "    val_res.append([path[-7:], IDX_TO_LABEL[ytrue], IDX_TO_LABEL[yhat.item()], np.round(score.item(), decimals=4)])\n",
    "\n",
    "\n",
    "val_df = pd.DataFrame(val_res, columns=['Filename', 'True', 'Pred', 'Score'])\n",
    "val_df.to_csv('CatStudyFollowUp_Validation_Dataset.csv', index=False)\n",
    "val_df"
   ]
  },
  {
   "cell_type": "code",
   "execution_count": 88,
   "metadata": {},
   "outputs": [
    {
     "name": "stderr",
     "output_type": "stream",
     "text": [
      "You are using a CUDA device ('NVIDIA A100-PCIE-40GB MIG 2g.10gb') that has Tensor Cores. To properly utilize them, you should set `torch.set_float32_matmul_precision('medium' | 'high')` which will trade-off precision for performance. For more details, read https://pytorch.org/docs/stable/generated/torch.set_float32_matmul_precision.html#torch.set_float32_matmul_precision\n"
     ]
    },
    {
     "name": "stderr",
     "output_type": "stream",
     "text": [
      "LOCAL_RANK: 0 - CUDA_VISIBLE_DEVICES: [0,1,2,3,4]\n"
     ]
    },
    {
     "data": {
      "application/vnd.jupyter.widget-view+json": {
       "model_id": "89885e87ee594dca9efe52ed964d838b",
       "version_major": 2,
       "version_minor": 0
      },
      "text/plain": [
       "Testing: 0it [00:00, ?it/s]"
      ]
     },
     "metadata": {},
     "output_type": "display_data"
    },
    {
     "name": "stdout",
     "output_type": "stream",
     "text": [
      "────────────────────────────────────────────────────────────────────────────────────────────────────────────────────────\n",
      "       Test metric             DataLoader 0\n",
      "────────────────────────────────────────────────────────────────────────────────────────────────────────────────────────\n",
      "        test/acc            0.7333333492279053\n",
      "        test/loss           1.8325761556625366\n",
      "────────────────────────────────────────────────────────────────────────────────────────────────────────────────────────\n"
     ]
    },
    {
     "data": {
      "text/plain": [
       "[{'test/loss': 1.8325761556625366, 'test/acc': 0.7333333492279053}]"
      ]
     },
     "execution_count": 88,
     "metadata": {},
     "output_type": "execute_result"
    }
   ],
   "source": [
    "# set up exerimental study set evaluation\n",
    "dm.set_split('Experimental_study_set')\n",
    "\n",
    "trainer.test(model, dataloaders=dm.predict_dataloader())"
   ]
  },
  {
   "cell_type": "code",
   "execution_count": 89,
   "metadata": {},
   "outputs": [
    {
     "name": "stderr",
     "output_type": "stream",
     "text": [
      "You are using a CUDA device ('NVIDIA A100-PCIE-40GB MIG 2g.10gb') that has Tensor Cores. To properly utilize them, you should set `torch.set_float32_matmul_precision('medium' | 'high')` which will trade-off precision for performance. For more details, read https://pytorch.org/docs/stable/generated/torch.set_float32_matmul_precision.html#torch.set_float32_matmul_precision\n"
     ]
    },
    {
     "name": "stderr",
     "output_type": "stream",
     "text": [
      "LOCAL_RANK: 0 - CUDA_VISIBLE_DEVICES: [0,1,2,3,4]\n"
     ]
    },
    {
     "data": {
      "application/vnd.jupyter.widget-view+json": {
       "model_id": "84ec353a27754483b559388bd41d4144",
       "version_major": 2,
       "version_minor": 0
      },
      "text/plain": [
       "Predicting: 0it [00:00, ?it/s]"
      ]
     },
     "metadata": {},
     "output_type": "display_data"
    },
    {
     "data": {
      "text/html": [
       "<div>\n",
       "<style scoped>\n",
       "    .dataframe tbody tr th:only-of-type {\n",
       "        vertical-align: middle;\n",
       "    }\n",
       "\n",
       "    .dataframe tbody tr th {\n",
       "        vertical-align: top;\n",
       "    }\n",
       "\n",
       "    .dataframe thead th {\n",
       "        text-align: right;\n",
       "    }\n",
       "</style>\n",
       "<table border=\"1\" class=\"dataframe\">\n",
       "  <thead>\n",
       "    <tr style=\"text-align: right;\">\n",
       "      <th></th>\n",
       "      <th>Filename</th>\n",
       "      <th>True</th>\n",
       "      <th>Pred</th>\n",
       "      <th>Score</th>\n",
       "    </tr>\n",
       "  </thead>\n",
       "  <tbody>\n",
       "    <tr>\n",
       "      <th>0</th>\n",
       "      <td>103.jpg</td>\n",
       "      <td>Domestic cat</td>\n",
       "      <td>Domestic cat</td>\n",
       "      <td>0.9922</td>\n",
       "    </tr>\n",
       "    <tr>\n",
       "      <th>1</th>\n",
       "      <td>105.jpg</td>\n",
       "      <td>Domestic cat</td>\n",
       "      <td>Domestic cat</td>\n",
       "      <td>1.0000</td>\n",
       "    </tr>\n",
       "    <tr>\n",
       "      <th>2</th>\n",
       "      <td>107.jpg</td>\n",
       "      <td>Domestic cat</td>\n",
       "      <td>Big cat</td>\n",
       "      <td>0.9997</td>\n",
       "    </tr>\n",
       "    <tr>\n",
       "      <th>3</th>\n",
       "      <td>114.jpg</td>\n",
       "      <td>Domestic cat</td>\n",
       "      <td>Domestic cat</td>\n",
       "      <td>1.0000</td>\n",
       "    </tr>\n",
       "    <tr>\n",
       "      <th>4</th>\n",
       "      <td>115.jpg</td>\n",
       "      <td>Domestic cat</td>\n",
       "      <td>Domestic cat</td>\n",
       "      <td>1.0000</td>\n",
       "    </tr>\n",
       "    <tr>\n",
       "      <th>5</th>\n",
       "      <td>116.jpg</td>\n",
       "      <td>Domestic cat</td>\n",
       "      <td>Domestic cat</td>\n",
       "      <td>0.7583</td>\n",
       "    </tr>\n",
       "    <tr>\n",
       "      <th>6</th>\n",
       "      <td>121.jpg</td>\n",
       "      <td>Domestic cat</td>\n",
       "      <td>Domestic cat</td>\n",
       "      <td>1.0000</td>\n",
       "    </tr>\n",
       "    <tr>\n",
       "      <th>7</th>\n",
       "      <td>201.jpg</td>\n",
       "      <td>Wild cat</td>\n",
       "      <td>Big cat</td>\n",
       "      <td>1.0000</td>\n",
       "    </tr>\n",
       "    <tr>\n",
       "      <th>8</th>\n",
       "      <td>203.jpg</td>\n",
       "      <td>Wild cat</td>\n",
       "      <td>Wild cat</td>\n",
       "      <td>0.9363</td>\n",
       "    </tr>\n",
       "    <tr>\n",
       "      <th>9</th>\n",
       "      <td>208.jpg</td>\n",
       "      <td>Wild cat</td>\n",
       "      <td>Wild cat</td>\n",
       "      <td>1.0000</td>\n",
       "    </tr>\n",
       "    <tr>\n",
       "      <th>10</th>\n",
       "      <td>209.jpg</td>\n",
       "      <td>Wild cat</td>\n",
       "      <td>Domestic cat</td>\n",
       "      <td>1.0000</td>\n",
       "    </tr>\n",
       "    <tr>\n",
       "      <th>11</th>\n",
       "      <td>214.jpg</td>\n",
       "      <td>Wild cat</td>\n",
       "      <td>Big cat</td>\n",
       "      <td>1.0000</td>\n",
       "    </tr>\n",
       "    <tr>\n",
       "      <th>12</th>\n",
       "      <td>216.jpg</td>\n",
       "      <td>Wild cat</td>\n",
       "      <td>Wild cat</td>\n",
       "      <td>0.9999</td>\n",
       "    </tr>\n",
       "    <tr>\n",
       "      <th>13</th>\n",
       "      <td>218.jpg</td>\n",
       "      <td>Wild cat</td>\n",
       "      <td>Wild cat</td>\n",
       "      <td>1.0000</td>\n",
       "    </tr>\n",
       "    <tr>\n",
       "      <th>14</th>\n",
       "      <td>219.jpg</td>\n",
       "      <td>Wild cat</td>\n",
       "      <td>Wild cat</td>\n",
       "      <td>0.9973</td>\n",
       "    </tr>\n",
       "    <tr>\n",
       "      <th>15</th>\n",
       "      <td>220.jpg</td>\n",
       "      <td>Wild cat</td>\n",
       "      <td>Wild cat</td>\n",
       "      <td>1.0000</td>\n",
       "    </tr>\n",
       "    <tr>\n",
       "      <th>16</th>\n",
       "      <td>221.jpg</td>\n",
       "      <td>Wild cat</td>\n",
       "      <td>Wild cat</td>\n",
       "      <td>1.0000</td>\n",
       "    </tr>\n",
       "    <tr>\n",
       "      <th>17</th>\n",
       "      <td>302.jpg</td>\n",
       "      <td>Big cat</td>\n",
       "      <td>Big cat</td>\n",
       "      <td>1.0000</td>\n",
       "    </tr>\n",
       "    <tr>\n",
       "      <th>18</th>\n",
       "      <td>305.jpg</td>\n",
       "      <td>Big cat</td>\n",
       "      <td>Domestic cat</td>\n",
       "      <td>1.0000</td>\n",
       "    </tr>\n",
       "    <tr>\n",
       "      <th>19</th>\n",
       "      <td>307.jpg</td>\n",
       "      <td>Big cat</td>\n",
       "      <td>Big cat</td>\n",
       "      <td>1.0000</td>\n",
       "    </tr>\n",
       "    <tr>\n",
       "      <th>20</th>\n",
       "      <td>309.jpg</td>\n",
       "      <td>Big cat</td>\n",
       "      <td>Big cat</td>\n",
       "      <td>1.0000</td>\n",
       "    </tr>\n",
       "    <tr>\n",
       "      <th>21</th>\n",
       "      <td>317.jpg</td>\n",
       "      <td>Big cat</td>\n",
       "      <td>Big cat</td>\n",
       "      <td>1.0000</td>\n",
       "    </tr>\n",
       "    <tr>\n",
       "      <th>22</th>\n",
       "      <td>319.jpg</td>\n",
       "      <td>Big cat</td>\n",
       "      <td>Big cat</td>\n",
       "      <td>1.0000</td>\n",
       "    </tr>\n",
       "    <tr>\n",
       "      <th>23</th>\n",
       "      <td>320.jpg</td>\n",
       "      <td>Big cat</td>\n",
       "      <td>Big cat</td>\n",
       "      <td>1.0000</td>\n",
       "    </tr>\n",
       "    <tr>\n",
       "      <th>24</th>\n",
       "      <td>401.png</td>\n",
       "      <td>Domestic cat</td>\n",
       "      <td>Domestic cat</td>\n",
       "      <td>1.0000</td>\n",
       "    </tr>\n",
       "    <tr>\n",
       "      <th>25</th>\n",
       "      <td>403.png</td>\n",
       "      <td>Domestic cat</td>\n",
       "      <td>Big cat</td>\n",
       "      <td>0.9745</td>\n",
       "    </tr>\n",
       "    <tr>\n",
       "      <th>26</th>\n",
       "      <td>504.jpg</td>\n",
       "      <td>Wild cat</td>\n",
       "      <td>Wild cat</td>\n",
       "      <td>1.0000</td>\n",
       "    </tr>\n",
       "    <tr>\n",
       "      <th>27</th>\n",
       "      <td>506.jpg</td>\n",
       "      <td>Wild cat</td>\n",
       "      <td>Wild cat</td>\n",
       "      <td>0.9922</td>\n",
       "    </tr>\n",
       "    <tr>\n",
       "      <th>28</th>\n",
       "      <td>604.jpg</td>\n",
       "      <td>Big cat</td>\n",
       "      <td>Wild cat</td>\n",
       "      <td>1.0000</td>\n",
       "    </tr>\n",
       "    <tr>\n",
       "      <th>29</th>\n",
       "      <td>606.jpg</td>\n",
       "      <td>Big cat</td>\n",
       "      <td>Wild cat</td>\n",
       "      <td>0.5480</td>\n",
       "    </tr>\n",
       "  </tbody>\n",
       "</table>\n",
       "</div>"
      ],
      "text/plain": [
       "   Filename          True          Pred   Score\n",
       "0   103.jpg  Domestic cat  Domestic cat  0.9922\n",
       "1   105.jpg  Domestic cat  Domestic cat  1.0000\n",
       "2   107.jpg  Domestic cat       Big cat  0.9997\n",
       "3   114.jpg  Domestic cat  Domestic cat  1.0000\n",
       "4   115.jpg  Domestic cat  Domestic cat  1.0000\n",
       "5   116.jpg  Domestic cat  Domestic cat  0.7583\n",
       "6   121.jpg  Domestic cat  Domestic cat  1.0000\n",
       "7   201.jpg      Wild cat       Big cat  1.0000\n",
       "8   203.jpg      Wild cat      Wild cat  0.9363\n",
       "9   208.jpg      Wild cat      Wild cat  1.0000\n",
       "10  209.jpg      Wild cat  Domestic cat  1.0000\n",
       "11  214.jpg      Wild cat       Big cat  1.0000\n",
       "12  216.jpg      Wild cat      Wild cat  0.9999\n",
       "13  218.jpg      Wild cat      Wild cat  1.0000\n",
       "14  219.jpg      Wild cat      Wild cat  0.9973\n",
       "15  220.jpg      Wild cat      Wild cat  1.0000\n",
       "16  221.jpg      Wild cat      Wild cat  1.0000\n",
       "17  302.jpg       Big cat       Big cat  1.0000\n",
       "18  305.jpg       Big cat  Domestic cat  1.0000\n",
       "19  307.jpg       Big cat       Big cat  1.0000\n",
       "20  309.jpg       Big cat       Big cat  1.0000\n",
       "21  317.jpg       Big cat       Big cat  1.0000\n",
       "22  319.jpg       Big cat       Big cat  1.0000\n",
       "23  320.jpg       Big cat       Big cat  1.0000\n",
       "24  401.png  Domestic cat  Domestic cat  1.0000\n",
       "25  403.png  Domestic cat       Big cat  0.9745\n",
       "26  504.jpg      Wild cat      Wild cat  1.0000\n",
       "27  506.jpg      Wild cat      Wild cat  0.9922\n",
       "28  604.jpg       Big cat      Wild cat  1.0000\n",
       "29  606.jpg       Big cat      Wild cat  0.5480"
      ]
     },
     "execution_count": 89,
     "metadata": {},
     "output_type": "execute_result"
    }
   ],
   "source": [
    "# set up exerimental study set evaluation\n",
    "dm.set_split('Experimental_study_set')\n",
    "\n",
    "val_res = []\n",
    "\n",
    "# collect predictions\n",
    "preds = trainer.predict(model, dataloaders=dm.predict_dataloader())\n",
    "\n",
    "# combine predictions across batches\n",
    "y_hats = torch.cat([p[1] for p in preds])\n",
    "y_probs = torch.cat([p[0] for p in preds])\n",
    "\n",
    "val_dataset = dm.experimental_dataset\n",
    "for idx, (yhat, score) in enumerate(zip(y_hats, y_probs)):\n",
    "    path, ytrue = val_dataset.samples[idx]\n",
    "    img = val_dataset.load_image(path)\n",
    "    val_res.append([path[-7:], IDX_TO_LABEL[ytrue], IDX_TO_LABEL[yhat.item()], np.round(score.item(), decimals=4)])\n",
    "\n",
    "\n",
    "val_df = pd.DataFrame(val_res, columns=['Filename', 'True', 'Pred', 'Score'])\n",
    "val_df.to_csv('CatStudyFollowUp_Experimental_Dataset.csv', index=False)\n",
    "val_df"
   ]
  },
  {
   "cell_type": "code",
   "execution_count": 90,
   "metadata": {},
   "outputs": [],
   "source": [
    "df_excluded = pd.read_csv('CatStudyFollowUp_Excluded_Dataset.csv')\n",
    "df_experimental = pd.read_csv('CatStudyFollowUp_Experimental_Dataset.csv')\n",
    "df_validation = pd.read_csv('CatStudyFollowUp_Validation_Dataset.csv')\n",
    "\n",
    "df_comb = pd.concat([df_excluded, df_experimental, df_validation])\n",
    "df_study = pd.concat([df_experimental, df_validation])"
   ]
  },
  {
   "cell_type": "code",
   "execution_count": 91,
   "metadata": {},
   "outputs": [
    {
     "data": {
      "text/plain": [
       "0.6333333333333333"
      ]
     },
     "execution_count": 91,
     "metadata": {},
     "output_type": "execute_result"
    }
   ],
   "source": [
    "# overall accuracy\n",
    "sum(df_comb['True'] == df_comb['Pred']) / len(df_comb)"
   ]
  },
  {
   "cell_type": "code",
   "execution_count": 92,
   "metadata": {},
   "outputs": [
    {
     "data": {
      "text/plain": [
       "0.7333333333333333"
      ]
     },
     "execution_count": 92,
     "metadata": {},
     "output_type": "execute_result"
    }
   ],
   "source": [
    "# recommender test set accuracy\n",
    "sum(df_validation['True'] == df_validation['Pred']) / len(df_validation)"
   ]
  },
  {
   "cell_type": "code",
   "execution_count": 93,
   "metadata": {},
   "outputs": [
    {
     "data": {
      "text/plain": [
       "0.7333333333333333"
      ]
     },
     "execution_count": 93,
     "metadata": {},
     "output_type": "execute_result"
    }
   ],
   "source": [
    "# experimental study set accuracy \n",
    "sum(df_experimental['True'] == df_experimental['Pred']) / len(df_experimental)"
   ]
  },
  {
   "cell_type": "code",
   "execution_count": 94,
   "metadata": {},
   "outputs": [
    {
     "data": {
      "text/plain": [
       "0.7333333333333333"
      ]
     },
     "execution_count": 94,
     "metadata": {},
     "output_type": "execute_result"
    }
   ],
   "source": [
    "# recommender + experimental set accuracy\n",
    "sum(df_study['True'] == df_study['Pred']) / len(df_study)"
   ]
  },
  {
   "cell_type": "code",
   "execution_count": null,
   "metadata": {},
   "outputs": [],
   "source": []
  }
 ],
 "metadata": {
  "kernelspec": {
   "display_name": ".env",
   "language": "python",
   "name": "python3"
  },
  "language_info": {
   "codemirror_mode": {
    "name": "ipython",
    "version": 3
   },
   "file_extension": ".py",
   "mimetype": "text/x-python",
   "name": "python",
   "nbconvert_exporter": "python",
   "pygments_lexer": "ipython3",
   "version": "3.8.10"
  }
 },
 "nbformat": 4,
 "nbformat_minor": 4
}
